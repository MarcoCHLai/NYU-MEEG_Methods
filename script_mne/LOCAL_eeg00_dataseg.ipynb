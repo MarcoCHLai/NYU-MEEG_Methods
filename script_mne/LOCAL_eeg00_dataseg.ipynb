{
 "cells": [
  {
   "cell_type": "markdown",
   "metadata": {},
   "source": [
    "# setting"
   ]
  },
  {
   "cell_type": "code",
   "execution_count": 1,
   "metadata": {},
   "outputs": [],
   "source": [
    "# Load library\n",
    "import mne, os, pickle, glob\n",
    "import numpy as np\n",
    "import pandas as pd\n",
    "import matplotlib.pyplot as plt\n",
    "import matplotlib\n",
    "matplotlib.use('Qt5Agg')"
   ]
  },
  {
   "cell_type": "markdown",
   "metadata": {},
   "source": [
    "# load data"
   ]
  },
  {
   "cell_type": "code",
   "execution_count": 10,
   "metadata": {},
   "outputs": [
    {
     "name": "stdout",
     "output_type": "stream",
     "text": [
      "Extracting EDF parameters from /Users/marcolai/Dropbox/NYUC&P/Class/Year5-1_2024Fall/MEEG_methods/Lab/dataset/EEG/sub-004/eeg/sub-004_task-oddball_eeg.bdf...\n",
      "BDF file detected\n",
      "Setting channel info structure...\n",
      "Creating raw.info structure...\n",
      "Reading 0 ... 2347007  =      0.000 ...  4583.998 secs...\n",
      "Trigger channel has a non-zero initial value of 65536 (consider using initial_event=True to detect this event)\n",
      "Removing orphaned offset at the beginning of the file.\n",
      "1465 events found\n",
      "Event IDs: [  1   2   4   8  16  64 128]\n"
     ]
    },
    {
     "name": "stderr",
     "output_type": "stream",
     "text": [
      "/var/folders/8s/jc0nfbq14wj582qx_r91xgjh0000gn/T/ipykernel_10163/1959723106.py:14: RuntimeWarning: DigMontage is only a subset of info. There are 11 channel positions not present in the DigMontage. The required channels are:\n",
      "\n",
      "['EXG5', 'EXG6', 'EXG7', 'EXG8', 'GSR1', 'GSR2', 'Erg1', 'Erg2', 'Resp', 'Plet', 'Temp'].\n",
      "\n",
      "Consider using inst.set_channel_types if these are not EEG channels, or use the on_missing parameter if the channel positions are allowed to be unknown in your analyses.\n",
      "  raw.set_montage(layout, on_missing='warn')\n"
     ]
    }
   ],
   "source": [
    "# define data directory\n",
    "subj = 'sub-004'\n",
    "data_type = 'EEG'\n",
    "data_dir  = os.path.realpath('../dataset/%s/%s/%s')%(data_type, subj, data_type.lower())\n",
    "\n",
    "# define eeg file name\n",
    "bdf_fname = os.path.join(data_dir, '%s_task-oddball_eeg.bdf')%(subj)\n",
    "\n",
    "# load eeg data\n",
    "raw = mne.io.read_raw_bdf(bdf_fname, preload=True, eog=['EXG1', 'EXG2', 'EXG3', 'EXG4'])\n",
    "\n",
    "# setting sensor layout\n",
    "layout = mne.channels.make_standard_montage('biosemi256')\n",
    "raw.set_montage(layout, on_missing='warn')\n",
    "\n",
    "# find events\n",
    "events = mne.find_events(raw, min_duration=0.002)\n"
   ]
  },
  {
   "cell_type": "markdown",
   "metadata": {},
   "source": [
    "# crop data into different expriment sessions"
   ]
  },
  {
   "cell_type": "code",
   "execution_count": 22,
   "metadata": {},
   "outputs": [
    {
     "name": "stdout",
     "output_type": "stream",
     "text": [
      "Writing /Users/marcolai/Dropbox/NYUC&P/Class/Year5-1_2024Fall/MEEG_methods/Lab/dataset/EEG/sub-004/eeg/sub-004_sess-oddball03-raw.fif\n",
      "Closing /Users/marcolai/Dropbox/NYUC&P/Class/Year5-1_2024Fall/MEEG_methods/Lab/dataset/EEG/sub-004/eeg/sub-004_sess-oddball03-raw.fif\n",
      "[done]\n"
     ]
    }
   ],
   "source": [
    "# 'sub-004_sess-oddball01': 190-920\n",
    "# 'sub-004_sess-story01': 920-1600\n",
    "# 'sub-004_sess-oddball02': 1700-3110\n",
    "# 'sub-004_sess-story02': 3110-3800\n",
    "# 'sub-004_sess-oddball03': 3800-4570\n",
    "\n",
    "sess = 'sess-oddball03'\n",
    "tmin = 3800\n",
    "tmax = 4570\n",
    "data_sess = raw.copy()\n",
    "data_sess.crop(tmin, tmax)\n",
    "\n",
    "# save file\n",
    "fname = os.path.join(data_dir, '%s_%s-raw.fif') %(subj, sess)\n",
    "data_sess.save(fname, overwrite=True)"
   ]
  },
  {
   "cell_type": "code",
   "execution_count": null,
   "metadata": {},
   "outputs": [],
   "source": []
  }
 ],
 "metadata": {
  "kernelspec": {
   "display_name": "Python 3 (ipykernel)",
   "language": "python",
   "name": "python3"
  },
  "language_info": {
   "codemirror_mode": {
    "name": "ipython",
    "version": 3
   },
   "file_extension": ".py",
   "mimetype": "text/x-python",
   "name": "python",
   "nbconvert_exporter": "python",
   "pygments_lexer": "ipython3",
   "version": "3.8.16"
  }
 },
 "nbformat": 4,
 "nbformat_minor": 2
}
