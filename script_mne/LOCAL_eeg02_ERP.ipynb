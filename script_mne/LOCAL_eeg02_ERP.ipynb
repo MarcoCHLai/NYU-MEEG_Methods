{
 "cells": [
  {
   "cell_type": "markdown",
   "id": "19f56953",
   "metadata": {},
   "source": [
    "# setting"
   ]
  },
  {
   "cell_type": "code",
   "execution_count": 3,
   "id": "70da45f5",
   "metadata": {},
   "outputs": [],
   "source": [
    "# Load library\n",
    "import mne, os, pickle, glob\n",
    "import numpy as np\n",
    "import pandas as pd\n",
    "import matplotlib.pyplot as plt\n",
    "import matplotlib\n",
    "matplotlib.use('Qt5Agg')"
   ]
  },
  {
   "cell_type": "markdown",
   "id": "1e38e2e1",
   "metadata": {},
   "source": [
    "# concatenate EEG data"
   ]
  },
  {
   "cell_type": "code",
   "execution_count": 2,
   "id": "8284b2ca",
   "metadata": {},
   "outputs": [],
   "source": [
    "# # define data directory\n",
    "# subj = 'sub-004'\n",
    "# data_type = 'EEG'\n",
    "# data_dir  = os.path.realpath('../dataset/%s/%s/%s')%(data_type, subj, data_type.lower())\n",
    "\n",
    "# # load EEG data\n",
    "# sessions = ['sess-oddball01', 'sess-oddball02', 'sess-oddball03']\n",
    "# raws = []\n",
    "\n",
    "# for s, sess in enumerate(sessions):\n",
    "#     sess_fname = os.path.join(data_dir, '%s_%s_ICA-raw.fif') %(subj, sess)\n",
    "#     raw   = mne.io.read_raw(sess_fname, preload=True)\n",
    "#     raws.append(raw)\n",
    "\n",
    "# # concatenate raw data from different sessions\n",
    "# data = mne.concatenate_raws(raws)\n",
    "\n",
    "# # save file\n",
    "# fname = os.path.join(data_dir, '%s_sess-oddball_ICA-raw.fif') %(subj)\n",
    "# data.save(fname, overwrite=True)"
   ]
  },
  {
   "cell_type": "markdown",
   "id": "e891989f",
   "metadata": {},
   "source": [
    "# load EEG data"
   ]
  },
  {
   "cell_type": "code",
   "execution_count": 4,
   "id": "ea19fa08",
   "metadata": {},
   "outputs": [
    {
     "name": "stdout",
     "output_type": "stream",
     "text": [
      "Opening raw data file /Users/cl5564/Library/CloudStorage/Dropbox/NYUC&P/Class/Year5-1_2024Fall/MEEG_methods/Lab/dataset/EEG/sub-004/eeg/sub-004_sess-oddball_ICA-raw.fif...\n",
      "    Range : 97280 ... 1587202 =    190.000 ...  3100.004 secs\n",
      "Ready.\n",
      "Reading 0 ... 1489922  =      0.000 ...  2910.004 secs...\n"
     ]
    }
   ],
   "source": [
    "# define data directory\n",
    "subj = 'sub-004'\n",
    "data_type = 'EEG'\n",
    "data_dir  = os.path.realpath('../dataset/%s/%s/%s')%(data_type, subj, data_type.lower())\n",
    "\n",
    "# load EEG data\n",
    "fname = os.path.join(data_dir, '%s_sess-oddball_ICA-raw.fif') %(subj)\n",
    "data  = mne.io.read_raw(fname, preload=True)"
   ]
  },
  {
   "cell_type": "markdown",
   "id": "64727fb1",
   "metadata": {},
   "source": [
    "# read experiment log file\n",
    "original event trigger codes\n",
    "- 1: classicalAud\n",
    "- 2: semanticVis\n",
    "- 4: semanticAud\n",
    "- 64: even\n",
    "- 128: odd"
   ]
  },
  {
   "cell_type": "code",
   "execution_count": 4,
   "id": "a24c7ad1",
   "metadata": {},
   "outputs": [
    {
     "name": "stdout",
     "output_type": "stream",
     "text": [
      "(1440, 14)\n"
     ]
    }
   ],
   "source": [
    "# read log file\n",
    "log_fname = os.path.join(data_dir, '%s_task-oddball_events.tsv') %(subj)\n",
    "log_df = pd.read_csv(log_fname, sep='\\t')\n",
    "\n",
    "# look for events in the oddball sessions (exclude the story sessions)\n",
    "ob_idx = log_df['blockTypeActual'].isin(['classicalAud', 'semanticAud', 'semanticVis'])\n",
    "ob_df  = log_df[ob_idx]\n",
    "ob_df  = ob_df.dropna()\n",
    "print(ob_df.shape)\n",
    "\n",
    "# define oddball types\n",
    "oddball_conds = {'classicalAud': 1, 'semanticVis': 2, 'semanticAud': 4}\n",
    "\n",
    "# create new condition codes\n",
    "cond_codes = np.zeros(ob_df.shape[0], dtype=int)\n",
    "\n",
    "for cond, num in oddball_conds.items():\n",
    "    cond_idx = ob_df['blockTypeActual'].isin([cond])\n",
    "    cond_codes[cond_idx] = num\n",
    "\n",
    "cond_codes = cond_codes*1000 + ob_df['trigger_codes_fixed'].values\n",
    "\n",
    "# add new condition codes to the dataframe\n",
    "ob_df['cond_codes'] = cond_codes\n"
   ]
  },
  {
   "cell_type": "markdown",
   "id": "518090fa",
   "metadata": {},
   "source": [
    "# update event code\n"
   ]
  },
  {
   "cell_type": "code",
   "execution_count": 5,
   "id": "808f3d8c",
   "metadata": {},
   "outputs": [
    {
     "name": "stdout",
     "output_type": "stream",
     "text": [
      "1447 events found\n",
      "Event IDs: [  1   2   4  64 128]\n"
     ]
    }
   ],
   "source": [
    "# find events\n",
    "events = mne.find_events(data, min_duration=0.002)\n",
    "\n",
    "# look for trial indices\n",
    "trl_idx = (events[:,2] == 64) | (events[:,2] == 128)\n",
    "\n",
    "# update event code\n",
    "events[trl_idx,2] = cond_codes"
   ]
  },
  {
   "cell_type": "markdown",
   "id": "17e98cce",
   "metadata": {},
   "source": [
    "# epoch segment"
   ]
  },
  {
   "cell_type": "code",
   "execution_count": 14,
   "id": "645df6ff",
   "metadata": {},
   "outputs": [
    {
     "name": "stdout",
     "output_type": "stream",
     "text": [
      "Filtering raw data in 3 contiguous segments\n",
      "Setting up low-pass filter at 15 Hz\n",
      "\n",
      "FIR filter parameters\n",
      "---------------------\n",
      "Designing a one-pass, zero-phase, non-causal lowpass filter:\n",
      "- Windowed time-domain design (firwin) method\n",
      "- Hamming window with 0.0194 passband ripple and 53 dB stopband attenuation\n",
      "- Upper passband edge: 15.00 Hz\n",
      "- Upper transition bandwidth: 3.75 Hz (-6 dB cutoff frequency: 16.88 Hz)\n",
      "- Filter length: 451 samples (0.881 sec)\n",
      "\n"
     ]
    },
    {
     "name": "stderr",
     "output_type": "stream",
     "text": [
      "[Parallel(n_jobs=1)]: Using backend SequentialBackend with 1 concurrent workers.\n",
      "[Parallel(n_jobs=1)]: Done   1 out of   1 | elapsed:    0.0s remaining:    0.0s\n",
      "[Parallel(n_jobs=1)]: Done   2 out of   2 | elapsed:    0.1s remaining:    0.0s\n",
      "[Parallel(n_jobs=1)]: Done   3 out of   3 | elapsed:    0.1s remaining:    0.0s\n",
      "[Parallel(n_jobs=1)]: Done   4 out of   4 | elapsed:    0.1s remaining:    0.0s\n",
      "[Parallel(n_jobs=1)]: Done 256 out of 256 | elapsed:    7.1s finished\n"
     ]
    },
    {
     "name": "stdout",
     "output_type": "stream",
     "text": [
      "Not setting metadata\n",
      "1440 matching events found\n",
      "Applying baseline correction (mode: mean)\n",
      "0 projection items activated\n",
      "Using data from preloaded Raw for 1440 events and 1537 original time points ...\n",
      "0 bad epochs dropped\n"
     ]
    }
   ],
   "source": [
    "# apply 15 Hz low-pass filter\n",
    "data_filt = data.copy()\n",
    "data.filter(l_freq=None, h_freq=15, method='fir')\n",
    "\n",
    "# define epoch parameters\n",
    "epoch_tmin     = -1\n",
    "epoch_tmax     = 2\n",
    "epoch_baseline = (-0.5, 0)\n",
    "detrend        = 1 # linear detrend\n",
    "decim          = 1 # 1 for no decimation (downsampling)\n",
    "\n",
    "# define event id\n",
    "event_id = dict(classicalAud_even = 1064, classicalAud_odd = 1128,\n",
    "                semanticVis_even  = 2064, semanticVis_odd  = 2128,\n",
    "                semanticAud_even  = 4064, semanticAud_odd  = 4128)\n",
    "\n",
    "# epoching\n",
    "info   = data.info\n",
    "picks  = mne.pick_types(info, meg=False, eeg=True, eog=False, stim=False)\n",
    "epochs = mne.Epochs(data,\n",
    "                    events   = events, \n",
    "                    event_id = event_id,\n",
    "                    picks    = picks,\n",
    "                    decim    = decim,\n",
    "                    tmin     = epoch_tmin,\n",
    "                    tmax     = epoch_tmax,\n",
    "                    baseline = epoch_baseline,\n",
    "                    detrend  = detrend,\n",
    "                    preload  = True,\n",
    "                    reject_by_annotation = False)\n"
   ]
  },
  {
   "cell_type": "markdown",
   "id": "00f6a05c",
   "metadata": {},
   "source": [
    "# manually reject bad epochs"
   ]
  },
  {
   "cell_type": "code",
   "execution_count": 17,
   "id": "e9d2c3af",
   "metadata": {},
   "outputs": [
    {
     "name": "stdout",
     "output_type": "stream",
     "text": [
      "Using pyopengl with version 3.1.6\n"
     ]
    },
    {
     "data": {
      "text/plain": [
       "<mne_qt_browser._pg_figure.MNEQtBrowser at 0x7ff760a8a5e0>"
      ]
     },
     "execution_count": 17,
     "metadata": {},
     "output_type": "execute_result"
    },
    {
     "name": "stdout",
     "output_type": "stream",
     "text": [
      "Dropped 231 epochs: 0, 3, 4, 7, 8, 9, 13, 14, 28, 40, 41, 50, 52, 53, 54, 57, 61, 62, 79, 80, 86, 87, 91, 92, 109, 110, 111, 120, 136, 137, 138, 139, 152, 153, 154, 159, 160, 171, 172, 209, 223, 253, 254, 265, 266, 273, 300, 328, 329, 335, 336, 340, 341, 343, 344, 354, 360, 361, 366, 390, 391, 407, 408, 414, 438, 439, 442, 443, 448, 449, 452, 453, 455, 456, 461, 462, 463, 464, 466, 467, 472, 473, 474, 475, 476, 479, 481, 492, 510, 511, 519, 520, 530, 531, 532, 540, 541, 542, 570, 573, 579, 583, 585, 586, 595, 606, 614, 615, 617, 629, 650, 651, 680, 681, 704, 713, 714, 715, 716, 717, 720, 721, 750, 758, 761, 762, 800, 809, 810, 812, 813, 865, 869, 886, 887, 888, 893, 894, 895, 900, 901, 904, 905, 907, 908, 922, 925, 926, 930, 938, 939, 944, 945, 953, 954, 960, 961, 974, 975, 976, 981, 982, 983, 1020, 1024, 1046, 1047, 1048, 1049, 1050, 1072, 1073, 1087, 1088, 1105, 1107, 1110, 1111, 1114, 1127, 1140, 1146, 1148, 1149, 1151, 1152, 1170, 1171, 1176, 1183, 1216, 1223, 1224, 1230, 1231, 1232, 1236, 1245, 1246, 1254, 1255, 1256, 1257, 1267, 1268, 1290, 1291, 1294, 1296, 1299, 1300, 1345, 1346, 1350, 1351, 1353, 1364, 1374, 1375, 1377, 1378, 1380, 1381, 1410, 1411, 1415, 1416, 1418, 1430, 1431, 1432\n",
      "The following epochs were marked as bad and are dropped:\n",
      "[1, 4, 5, 8, 9, 10, 14, 15, 29, 41, 42, 51, 53, 54, 55, 58, 63, 64, 81, 82, 88, 89, 93, 94, 111, 112, 113, 122, 138, 139, 140, 141, 155, 156, 157, 162, 163, 174, 175, 212, 226, 256, 257, 268, 269, 276, 303, 331, 332, 338, 339, 343, 344, 346, 347, 357, 363, 364, 369, 393, 394, 410, 411, 417, 441, 442, 445, 446, 451, 452, 455, 456, 458, 459, 464, 465, 466, 467, 469, 470, 475, 476, 477, 478, 479, 482, 484, 495, 513, 514, 522, 523, 533, 534, 535, 543, 544, 545, 573, 576, 582, 586, 588, 589, 598, 609, 617, 618, 620, 632, 653, 654, 683, 684, 707, 716, 717, 718, 719, 720, 723, 724, 753, 761, 764, 765, 804, 813, 814, 816, 817, 869, 873, 890, 891, 892, 897, 898, 899, 904, 905, 908, 909, 911, 912, 926, 929, 930, 934, 942, 943, 948, 949, 957, 958, 964, 965, 978, 979, 980, 985, 986, 987, 1025, 1029, 1051, 1052, 1053, 1054, 1055, 1077, 1078, 1092, 1093, 1110, 1112, 1115, 1116, 1119, 1132, 1145, 1151, 1153, 1154, 1156, 1157, 1175, 1176, 1181, 1188, 1221, 1228, 1229, 1235, 1236, 1237, 1241, 1250, 1251, 1259, 1260, 1261, 1262, 1272, 1273, 1296, 1297, 1300, 1302, 1305, 1306, 1351, 1352, 1356, 1357, 1359, 1370, 1380, 1381, 1383, 1384, 1386, 1387, 1417, 1418, 1422, 1423, 1425, 1437, 1438, 1439]\n",
      "Channels marked as bad:\n",
      "none\n"
     ]
    }
   ],
   "source": [
    "epochs_cleaned = epochs.copy()\n",
    "epochs_cleaned.plot(n_epochs=5, n_channels=50, events=events,\n",
    "                    butterfly=True, scalings=dict(eeg=8e-4))\n"
   ]
  },
  {
   "cell_type": "code",
   "execution_count": 7,
   "id": "8637c2fc",
   "metadata": {},
   "outputs": [
    {
     "name": "stdout",
     "output_type": "stream",
     "text": [
      "Reading /Users/cl5564/Library/CloudStorage/Dropbox/NYUC&P/Class/Year5-1_2024Fall/MEEG_methods/Lab/dataset/EEG/sub-004/eeg/sub-004_sess-oddball_cleaned-epo.fif ...\n",
      "    Found the data of interest:\n",
      "        t =   -1000.00 ...    2000.00 ms\n",
      "        0 CTF compensation matrices available\n",
      "Not setting metadata\n",
      "1209 matching events found\n",
      "No baseline correction applied\n",
      "0 projection items activated\n"
     ]
    }
   ],
   "source": [
    "# save epochs\n",
    "epochs_fname = os.path.join(data_dir, '%s_sess-oddball_cleaned-epo.fif') %(subj)\n",
    "epochs_cleaned.save(epochs_fname, overwrite=True)\n",
    "\n",
    "# # read epochs\n",
    "# epochs_fname = os.path.join(data_dir, '%s_sess-oddball_cleaned-epo.fif') %(subj)\n",
    "# epochs_cleaned = mne.read_epochs(epochs_fname, preload=True)"
   ]
  },
  {
   "cell_type": "markdown",
   "id": "fb52b9b5",
   "metadata": {},
   "source": [
    "# plotting"
   ]
  },
  {
   "cell_type": "markdown",
   "id": "78f6b478",
   "metadata": {},
   "source": [
    "### butterfly plot with topomaps"
   ]
  },
  {
   "cell_type": "code",
   "execution_count": 15,
   "id": "f79a945b",
   "metadata": {},
   "outputs": [
    {
     "name": "stdout",
     "output_type": "stream",
     "text": [
      "No projector specified for this dataset. Please consider the method self.add_proj.\n"
     ]
    },
    {
     "data": {
      "text/plain": [
       "<Figure size 1600x840 with 7 Axes>"
      ]
     },
     "execution_count": 15,
     "metadata": {},
     "output_type": "execute_result"
    }
   ],
   "source": [
    "cond = 'semanticVis_even'\n",
    "evk  = epochs_cleaned[cond].average()\n",
    "evk.crop(tmin=-0.3, tmax=1)\n",
    "\n",
    "evk.plot_joint(\n",
    "              ts_args = dict(gfp=True, ylim=dict(eeg=[-8, 8]), time_unit='ms'),\n",
    "              topomap_args = dict(vlim=[-6, 6], time_unit='ms')\n",
    "              )"
   ]
  },
  {
   "cell_type": "markdown",
   "id": "be5c7843",
   "metadata": {},
   "source": [
    "### plot all channels"
   ]
  },
  {
   "cell_type": "code",
   "execution_count": 16,
   "id": "9ed71977",
   "metadata": {},
   "outputs": [
    {
     "data": {
      "text/plain": [
       "<Figure size 5120x2516 with 1 Axes>"
      ]
     },
     "execution_count": 16,
     "metadata": {},
     "output_type": "execute_result"
    }
   ],
   "source": [
    "conds = ['classicalAud_even', 'classicalAud_odd']\n",
    "evks = []\n",
    "tmin, tmax = -0.3, 1\n",
    "\n",
    "for c, cond in enumerate(conds):\n",
    "    evk = epochs_cleaned[cond].average()\n",
    "    evk.crop(tmin=tmin, tmax=tmax)\n",
    "    evks.append(evk)\n",
    "\n",
    "mne.viz.plot_evoked_topo(evks)\n"
   ]
  },
  {
   "cell_type": "markdown",
   "id": "bd16eaa8",
   "metadata": {},
   "source": [
    "### plot ERP from a subset of channels"
   ]
  },
  {
   "cell_type": "code",
   "execution_count": null,
   "id": "a1cc9f48",
   "metadata": {},
   "outputs": [],
   "source": [
    "# crop epochs into smaller time winodw\n",
    "tmin, tmax  = -0.3, 1\n",
    "epochs_crop = epochs_cleaned.copy()\n",
    "epochs_crop.crop(tmin, tmax)"
   ]
  },
  {
   "cell_type": "code",
   "execution_count": null,
   "id": "dcf147f0",
   "metadata": {},
   "outputs": [],
   "source": [
    "# split channels into anterior and posterior parts\n",
    "layout = mne.channels.make_standard_montage('biosemi256')\n",
    "chan_coor = np.array(list(layout.get_positions()['ch_pos'].values()))\n",
    "chan_ant_idx = np.squeeze(np.where(chan_coor[:,1] >= 0))  # anterior channel indices\n",
    "chan_pos_idx = np.squeeze(np.where(chan_coor[:,1] < 0))   # posterio channel indices"
   ]
  },
  {
   "cell_type": "code",
   "execution_count": null,
   "id": "f1bf70df",
   "metadata": {},
   "outputs": [],
   "source": [
    "# define conditions for comparision\n",
    "conds = ['classicalAud_even', 'classicalAud_odd']\n",
    "\n",
    "# figure prep\n",
    "fig, (ax1, ax2) = plt.subplots(nrows=1, ncols=2, figsize=(18,8))\n",
    "\n",
    "# plot ERP averaged across the anterior channels\n",
    "picks = np.array(epochs_crop.ch_names)[chan_ant_idx]\n",
    "evokeds = dict(even = list(epochs_crop[conds[0]].iter_evoked()),\n",
    "               odd  = list(epochs_crop[conds[1]].iter_evoked()))\n",
    "p1 = mne.viz.plot_compare_evokeds(evokeds, picks=picks, combine=\"mean\",\n",
    "                                  ylim=dict(eeg=[-3, 3]), axes=ax1, show=False,\n",
    "                                  title='Anterior region\\n(%d sensors)'%(chan_ant_idx.size))\n",
    "\n",
    "# plot ERP averaged across the posterior channels\n",
    "picks = np.array(epochs_crop.ch_names)[chan_pos_idx]\n",
    "evokeds = dict(even = list(epochs_crop[conds[0]].iter_evoked()),\n",
    "               odd  = list(epochs_crop[conds[1]].iter_evoked()))\n",
    "p2 = mne.viz.plot_compare_evokeds(evokeds, picks=picks, combine=\"mean\", \n",
    "                                  ylim=dict(eeg=[-3, 3]), axes=ax2, show=False,\n",
    "                                  title='Posterior region\\n(%d sensors)'%(chan_pos_idx.size))\n",
    "\n",
    "plt.rcParams['font.size'] = 20\n",
    "plt.tight_layout()\n",
    "plt.show()"
   ]
  }
 ],
 "metadata": {
  "kernelspec": {
   "display_name": "Python 3 (ipykernel)",
   "language": "python",
   "name": "python3"
  },
  "language_info": {
   "codemirror_mode": {
    "name": "ipython",
    "version": 3
   },
   "file_extension": ".py",
   "mimetype": "text/x-python",
   "name": "python",
   "nbconvert_exporter": "python",
   "pygments_lexer": "ipython3",
   "version": "3.8.16"
  }
 },
 "nbformat": 4,
 "nbformat_minor": 5
}
