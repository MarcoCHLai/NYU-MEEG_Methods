{
 "cells": [
  {
   "cell_type": "markdown",
   "metadata": {},
   "source": [
    "# setting"
   ]
  },
  {
   "cell_type": "code",
   "execution_count": 1,
   "metadata": {},
   "outputs": [],
   "source": [
    "# Load library\n",
    "import mne, os, pickle, glob\n",
    "import numpy as np\n",
    "import pandas as pd\n",
    "import matplotlib.pyplot as plt\n",
    "import matplotlib\n",
    "matplotlib.use('Qt5Agg')"
   ]
  },
  {
   "cell_type": "markdown",
   "metadata": {},
   "source": [
    "# load data"
   ]
  },
  {
   "cell_type": "code",
   "execution_count": 2,
   "metadata": {},
   "outputs": [
    {
     "name": "stdout",
     "output_type": "stream",
     "text": [
      "Opening raw data file /Users/cl5564/Library/CloudStorage/Dropbox/NYUC&P/Class/Year5-1_2024Fall/MEEG_methods/Lab/dataset/EEG/sub-004/eeg/sub-004_sess-oddball03-raw.fif...\n",
      "    Range : 1945600 ... 2339840 =   3800.000 ...  4570.000 secs\n",
      "Ready.\n",
      "Reading 0 ... 394240  =      0.000 ...   770.000 secs...\n",
      "362 events found\n",
      "Event IDs: [  2  64 128]\n"
     ]
    }
   ],
   "source": [
    "# define data directory\n",
    "subj = 'sub-004'\n",
    "data_type = 'EEG'\n",
    "data_dir  = os.path.realpath('../dataset/%s/%s/%s')%(data_type, subj, data_type.lower())\n",
    "\n",
    "# load eeg data\n",
    "sess  = 'sess-oddball03'\n",
    "fname = os.path.join(data_dir, '%s_%s-raw.fif') %(subj, sess)\n",
    "raw   = mne.io.read_raw(fname, preload=True)\n",
    "\n",
    "# find events\n",
    "events = mne.find_events(raw, min_duration=0.002)\n"
   ]
  },
  {
   "cell_type": "markdown",
   "metadata": {},
   "source": [
    "# re-reference data"
   ]
  },
  {
   "cell_type": "code",
   "execution_count": 3,
   "metadata": {},
   "outputs": [
    {
     "name": "stdout",
     "output_type": "stream",
     "text": [
      "EEG channel type selected for re-referencing\n",
      "Applying average reference.\n",
      "Applying a custom ('EEG',) reference.\n"
     ]
    }
   ],
   "source": [
    "# select 256 channels + 4 EOG channels + 1 stimulus channel\n",
    "pick_chans = raw.ch_names[0:260]     # select 256 channels + 4 EOG channels\n",
    "pick_chans.append(raw.ch_names[-1])  # append 1 stimulus channel\n",
    "data_subset = raw.copy()\n",
    "data_subset.pick(pick_chans)\n",
    "\n",
    "# re-reference to average channel\n",
    "# ref_channels='average' --> using the average reference from 256 channels \n",
    "data_reref, avg_ref = mne.set_eeg_reference(data_subset, ref_channels='average', copy=True)\n",
    "\n",
    "# re-reference EOG channels by subtracting \"avg_ref\"\n",
    "data_reref._data[256:260,:] -= avg_ref"
   ]
  },
  {
   "cell_type": "markdown",
   "metadata": {},
   "source": [
    "# identify bad channels"
   ]
  },
  {
   "cell_type": "code",
   "execution_count": 4,
   "metadata": {},
   "outputs": [
    {
     "name": "stdout",
     "output_type": "stream",
     "text": [
      "Setting up high-pass filter at 0.5 Hz\n",
      "\n",
      "IIR filter parameters\n",
      "---------------------\n",
      "Butterworth highpass zero-phase (two-pass forward and reverse) non-causal filter:\n",
      "- Filter order 8 (effective, after forward-backward)\n",
      "- Cutoff at 0.50 Hz: -6.02 dB\n",
      "\n",
      "Using matplotlib as 2D backend.\n"
     ]
    },
    {
     "data": {
      "text/plain": [
       "<MNEBrowseFigure size 2992x2604 with 4 Axes>"
      ]
     },
     "execution_count": 4,
     "metadata": {},
     "output_type": "execute_result"
    },
    {
     "name": "stdout",
     "output_type": "stream",
     "text": [
      "Channels marked as bad:\n",
      "none\n"
     ]
    }
   ],
   "source": [
    "data_reref.plot(n_channels=50, duration=30, color='steelblue',\n",
    "                events=events, event_color='orange', \n",
    "                highpass=0.5, lowpass=None, scalings=dict(eeg=2e-5)\n",
    "               )"
   ]
  },
  {
   "cell_type": "code",
   "execution_count": 5,
   "metadata": {},
   "outputs": [
    {
     "data": {
      "text/plain": [
       "['A26',\n",
       " 'B7',\n",
       " 'B8',\n",
       " 'B9',\n",
       " 'B19',\n",
       " 'C9',\n",
       " 'C30',\n",
       " 'D15',\n",
       " 'E5',\n",
       " 'F2',\n",
       " 'F22',\n",
       " 'G25',\n",
       " 'G29']"
      ]
     },
     "execution_count": 5,
     "metadata": {},
     "output_type": "execute_result"
    }
   ],
   "source": [
    "# check channels maked as bad\n",
    "data_reref.info['bads']"
   ]
  },
  {
   "cell_type": "markdown",
   "metadata": {},
   "source": [
    "# interpolate bad channels\n",
    "Method to use for each channel type.\n",
    "- \"meg\" channels support \"MNE\" (default) and \"nan\"\n",
    "- \"eeg\" channels support \"spline\" (default), \"MNE\" and \"nan\"\n",
    "- \"fnirs\" channels support \"nearest\" (default) and \"nan\"\n",
    "- \"ecog\" channels support \"spline\" (default) and \"nan\"\n",
    "- \"seeg\" channels support \"spline\" (default) and \"nan\""
   ]
  },
  {
   "cell_type": "code",
   "execution_count": 6,
   "metadata": {},
   "outputs": [
    {
     "name": "stdout",
     "output_type": "stream",
     "text": [
      "[]\n",
      "['A26', 'B7', 'B8', 'B9', 'B19', 'C9', 'C30', 'D15', 'E5', 'F2', 'F22', 'G25', 'G29']\n",
      "Interpolating bad channels\n",
      "    Automatic origin fit: head of radius 95.0 mm\n",
      "Computing interpolation matrix from 243 sensor positions\n",
      "Interpolating 13 sensors\n"
     ]
    },
    {
     "data": {
      "text/html": [
       "<table class=\"table table-hover table-striped table-sm table-responsive small\">\n",
       "    <tr>\n",
       "        <th>Measurement date</th>\n",
       "        \n",
       "        <td>October 04, 2024  17:28:46 GMT</td>\n",
       "        \n",
       "    </tr>\n",
       "    <tr>\n",
       "        <th>Experimenter</th>\n",
       "        \n",
       "        <td>Unknown</td>\n",
       "        \n",
       "    </tr>\n",
       "        <th>Participant</th>\n",
       "        \n",
       "        <td>Unknown</td>\n",
       "        \n",
       "    </tr>\n",
       "    <tr>\n",
       "        <th>Digitized points</th>\n",
       "        \n",
       "        <td>259 points</td>\n",
       "        \n",
       "    </tr>\n",
       "    <tr>\n",
       "        <th>Good channels</th>\n",
       "        <td>256 EEG, 4 EOG, 1 Stimulus</td>\n",
       "    </tr>\n",
       "    <tr>\n",
       "        <th>Bad channels</th>\n",
       "        <td>None</td>\n",
       "    </tr>\n",
       "    <tr>\n",
       "        <th>EOG channels</th>\n",
       "        <td>EXG1, EXG2, EXG3, EXG4</td>\n",
       "    </tr>\n",
       "    <tr>\n",
       "        <th>ECG channels</th>\n",
       "        <td>Not available</td>\n",
       "    \n",
       "    <tr>\n",
       "        <th>Sampling frequency</th>\n",
       "        <td>512.00 Hz</td>\n",
       "    </tr>\n",
       "    \n",
       "    \n",
       "    <tr>\n",
       "        <th>Highpass</th>\n",
       "        <td>0.00 Hz</td>\n",
       "    </tr>\n",
       "    \n",
       "    \n",
       "    <tr>\n",
       "        <th>Lowpass</th>\n",
       "        <td>104.00 Hz</td>\n",
       "    </tr>\n",
       "    \n",
       "    \n",
       "    \n",
       "    <tr>\n",
       "        <th>Filenames</th>\n",
       "        <td>sub-004_sess-oddball03-raw.fif</td>\n",
       "    </tr>\n",
       "    \n",
       "    <tr>\n",
       "        <th>Duration</th>\n",
       "        <td>00:12:50 (HH:MM:SS)</td>\n",
       "    </tr>\n",
       "</table>"
      ],
      "text/plain": [
       "<Raw | sub-004_sess-oddball03-raw.fif, 261 x 394241 (770.0 s), ~785.4 MB, data loaded>"
      ]
     },
     "execution_count": 6,
     "metadata": {},
     "output_type": "execute_result"
    }
   ],
   "source": [
    "# original raw data\n",
    "print(data_subset.info['bads'])\n",
    "\n",
    "# update bad channels info to the orginal raw data \n",
    "data_subset.info['bads'] = data_reref.info['bads']\n",
    "print(data_subset.info['bads'])\n",
    "\n",
    "# interpolate bad channels\n",
    "data_interp = data_subset.copy()\n",
    "data_interp.interpolate_bads(reset_bads=True, method=dict(eeg='spline'))"
   ]
  },
  {
   "cell_type": "markdown",
   "metadata": {},
   "source": [
    "# re-reference data again"
   ]
  },
  {
   "cell_type": "code",
   "execution_count": 7,
   "metadata": {},
   "outputs": [
    {
     "name": "stdout",
     "output_type": "stream",
     "text": [
      "EEG channel type selected for re-referencing\n",
      "Applying average reference.\n",
      "Applying a custom ('EEG',) reference.\n"
     ]
    }
   ],
   "source": [
    "# re-reference to average channel\n",
    "# ref_channels='average' --> using the average reference from 256 channels \n",
    "data_reref, avg_ref = mne.set_eeg_reference(data_interp, ref_channels='average', copy=True)\n",
    "\n",
    "# re-reference EOG channels by subtracting \"avg_ref\"\n",
    "data_reref._data[256:260,:] -= avg_ref"
   ]
  },
  {
   "cell_type": "markdown",
   "metadata": {},
   "source": [
    "# annotating movement artifacts as bad spans\n",
    "<div class=\"alert alert-block alert-info\">\n",
    "    <b>MNE tutorial – Rejecting bad data spans and breaks</b><br>\n",
    "    <a href=\"https://mne.tools/stable/auto_tutorials/preprocessing/20_rejecting_bad_data.html\">https://mne.tools/stable/auto_tutorials/preprocessing/20_rejecting_bad_data.html</a>\n",
    "</div>"
   ]
  },
  {
   "cell_type": "code",
   "execution_count": 8,
   "metadata": {},
   "outputs": [
    {
     "name": "stdout",
     "output_type": "stream",
     "text": [
      "Setting up high-pass filter at 0.5 Hz\n",
      "\n",
      "IIR filter parameters\n",
      "---------------------\n",
      "Butterworth highpass zero-phase (two-pass forward and reverse) non-causal filter:\n",
      "- Filter order 8 (effective, after forward-backward)\n",
      "- Cutoff at 0.50 Hz: -6.02 dB\n",
      "\n",
      "Using pyopengl with version 3.1.6\n"
     ]
    },
    {
     "data": {
      "text/plain": [
       "<mne_qt_browser._pg_figure.MNEQtBrowser at 0x7f82114b3d30>"
      ]
     },
     "execution_count": 8,
     "metadata": {},
     "output_type": "execute_result"
    },
    {
     "name": "stdout",
     "output_type": "stream",
     "text": [
      "Channels marked as bad:\n",
      "none\n"
     ]
    }
   ],
   "source": [
    "data_reref.plot(n_channels=50, duration=30, color='steelblue',\n",
    "                events=events, event_color='orange', \n",
    "                highpass=0.5, lowpass=None, scalings=dict(eeg=2e-5)\n",
    "               )"
   ]
  },
  {
   "cell_type": "code",
   "execution_count": 9,
   "metadata": {},
   "outputs": [
    {
     "name": "stdout",
     "output_type": "stream",
     "text": [
      "read annotations\n",
      "<Annotations | 10 segments: bad (10)>\n"
     ]
    }
   ],
   "source": [
    "# # save annotation log file\n",
    "# annot_fname = os.path.join(data_dir, '%s_%s_annot.csv') %(subj, sess)\n",
    "# data_reref.annotations.save(annot_fname, overwrite=True)\n",
    "\n",
    "# print('save annotations')\n",
    "# print(data_reref.annotations)\n",
    "\n",
    "# read annotation log file\n",
    "annot_fname = os.path.join(data_dir, '%s_%s_annot.csv') %(subj, sess)\n",
    "\n",
    "if os.path.exists(annot_fname):\n",
    "    annot_badspan = mne.read_annotations(annot_fname)\n",
    "    data_reref.set_annotations(annot_badspan, emit_warning=False)\n",
    "    print('read annotations')\n",
    "    print(data_reref.annotations)\n",
    "else:\n",
    "    print('no annotation file!')"
   ]
  },
  {
   "cell_type": "markdown",
   "metadata": {},
   "source": [
    "## filtering data before ICA"
   ]
  },
  {
   "cell_type": "code",
   "execution_count": 10,
   "metadata": {},
   "outputs": [
    {
     "name": "stdout",
     "output_type": "stream",
     "text": [
      "Filtering raw data in 1 contiguous segment\n",
      "Setting up high-pass filter at 1 Hz\n",
      "\n",
      "FIR filter parameters\n",
      "---------------------\n",
      "Designing a one-pass, zero-phase, non-causal highpass filter:\n",
      "- Windowed time-domain design (firwin) method\n",
      "- Hamming window with 0.0194 passband ripple and 53 dB stopband attenuation\n",
      "- Lower passband edge: 1.00\n",
      "- Lower transition bandwidth: 1.00 Hz (-6 dB cutoff frequency: 0.50 Hz)\n",
      "- Filter length: 1691 samples (3.303 sec)\n",
      "\n"
     ]
    },
    {
     "name": "stderr",
     "output_type": "stream",
     "text": [
      "[Parallel(n_jobs=1)]: Using backend SequentialBackend with 1 concurrent workers.\n",
      "[Parallel(n_jobs=1)]: Done   1 out of   1 | elapsed:    0.0s remaining:    0.0s\n",
      "[Parallel(n_jobs=1)]: Done   2 out of   2 | elapsed:    0.0s remaining:    0.0s\n",
      "[Parallel(n_jobs=1)]: Done   3 out of   3 | elapsed:    0.0s remaining:    0.0s\n",
      "[Parallel(n_jobs=1)]: Done   4 out of   4 | elapsed:    0.0s remaining:    0.0s\n",
      "[Parallel(n_jobs=1)]: Done 256 out of 256 | elapsed:    3.4s finished\n"
     ]
    },
    {
     "data": {
      "text/html": [
       "<table class=\"table table-hover table-striped table-sm table-responsive small\">\n",
       "    <tr>\n",
       "        <th>Measurement date</th>\n",
       "        \n",
       "        <td>October 04, 2024  17:28:46 GMT</td>\n",
       "        \n",
       "    </tr>\n",
       "    <tr>\n",
       "        <th>Experimenter</th>\n",
       "        \n",
       "        <td>Unknown</td>\n",
       "        \n",
       "    </tr>\n",
       "        <th>Participant</th>\n",
       "        \n",
       "        <td>Unknown</td>\n",
       "        \n",
       "    </tr>\n",
       "    <tr>\n",
       "        <th>Digitized points</th>\n",
       "        \n",
       "        <td>259 points</td>\n",
       "        \n",
       "    </tr>\n",
       "    <tr>\n",
       "        <th>Good channels</th>\n",
       "        <td>256 EEG, 4 EOG, 1 Stimulus</td>\n",
       "    </tr>\n",
       "    <tr>\n",
       "        <th>Bad channels</th>\n",
       "        <td>None</td>\n",
       "    </tr>\n",
       "    <tr>\n",
       "        <th>EOG channels</th>\n",
       "        <td>EXG1, EXG2, EXG3, EXG4</td>\n",
       "    </tr>\n",
       "    <tr>\n",
       "        <th>ECG channels</th>\n",
       "        <td>Not available</td>\n",
       "    \n",
       "    <tr>\n",
       "        <th>Sampling frequency</th>\n",
       "        <td>512.00 Hz</td>\n",
       "    </tr>\n",
       "    \n",
       "    \n",
       "    <tr>\n",
       "        <th>Highpass</th>\n",
       "        <td>1.00 Hz</td>\n",
       "    </tr>\n",
       "    \n",
       "    \n",
       "    <tr>\n",
       "        <th>Lowpass</th>\n",
       "        <td>104.00 Hz</td>\n",
       "    </tr>\n",
       "    \n",
       "    \n",
       "    \n",
       "    <tr>\n",
       "        <th>Filenames</th>\n",
       "        <td>sub-004_sess-oddball03-raw.fif</td>\n",
       "    </tr>\n",
       "    \n",
       "    <tr>\n",
       "        <th>Duration</th>\n",
       "        <td>00:12:50 (HH:MM:SS)</td>\n",
       "    </tr>\n",
       "</table>"
      ],
      "text/plain": [
       "<Raw | sub-004_sess-oddball03-raw.fif, 261 x 394241 (770.0 s), ~785.4 MB, data loaded>"
      ]
     },
     "execution_count": 10,
     "metadata": {},
     "output_type": "execute_result"
    }
   ],
   "source": [
    "data_filt = data_reref.copy()\n",
    "data_filt.filter(l_freq=1, h_freq=None, method='fir')"
   ]
  },
  {
   "cell_type": "markdown",
   "metadata": {},
   "source": [
    "## Indepent Component Analysis\n",
    "<div class=\"alert alert-block alert-info\">\n",
    "    <b>UCSD SCCN – EEG component labeling</b><br>\n",
    "    <a href=\"https://labeling.ucsd.edu/tutorial/labels\">https://labeling.ucsd.edu/tutorial/labels</a>\n",
    "</div>"
   ]
  },
  {
   "cell_type": "code",
   "execution_count": 11,
   "metadata": {},
   "outputs": [
    {
     "name": "stdout",
     "output_type": "stream",
     "text": [
      "247\n"
     ]
    }
   ],
   "source": [
    "rnk = np.linalg.matrix_rank(data_filt.get_data())\n",
    "print(rnk)"
   ]
  },
  {
   "cell_type": "code",
   "execution_count": 12,
   "metadata": {},
   "outputs": [
    {
     "name": "stdout",
     "output_type": "stream",
     "text": [
      "Fitting ICA to data using 256 channels (please be patient, this may take a while)\n",
      "Omitting 66266 of 394241 (16.81%) samples, retaining 327975 (83.19%) samples.\n",
      "Selecting by number: 247 components\n"
     ]
    },
    {
     "name": "stderr",
     "output_type": "stream",
     "text": [
      "/Users/marcolai/opt/anaconda3/envs/mne_v103/lib/python3.8/site-packages/sklearn/decomposition/_fastica.py:120: ConvergenceWarning: FastICA did not converge. Consider increasing tolerance or the maximum number of iterations.\n",
      "  warnings.warn(\n",
      "/var/folders/8s/jc0nfbq14wj582qx_r91xgjh0000gn/T/ipykernel_3440/1143468493.py:2: RuntimeWarning: Using n_components=247 (resulting in n_components_=247) may lead to an unstable mixing matrix estimation because the ratio between the largest (1.2e+02) and smallest (2.9e-22) variances is too large (> 1e6); consider setting n_components=0.999999 or an integer <= 242\n",
      "  ica.fit(data_filt, reject_by_annotation=True)\n"
     ]
    },
    {
     "name": "stdout",
     "output_type": "stream",
     "text": [
      "Fitting ICA took 1775.1s.\n"
     ]
    },
    {
     "data": {
      "text/html": [
       "<table class=\"table table-hover table-striped table-sm table-responsive small\">\n",
       "    <tr>\n",
       "        <th>Method</th>\n",
       "        <td>fastica</td>\n",
       "    </tr>\n",
       "    <tr>\n",
       "        <th>Fit</th>\n",
       "        <td>1000 iterations on raw data (327975 samples)</td>\n",
       "    </tr>\n",
       "    \n",
       "    <tr>\n",
       "        <th>ICA components</th>\n",
       "        <td>247</td>\n",
       "    </tr>\n",
       "    <tr>\n",
       "        <th>Available PCA components</th>\n",
       "        <td>256</td>\n",
       "    </tr>\n",
       "    <tr>\n",
       "        <th>Channel types</th>\n",
       "        <td>eeg</td>\n",
       "    </tr>\n",
       "    <tr>\n",
       "        <th>ICA components marked for exclusion</th>\n",
       "        <td>&mdash;</td>\n",
       "    </tr>\n",
       "    \n",
       "</table>"
      ],
      "text/plain": [
       "<ICA | raw data decomposition, method: fastica (fit in 1000 iterations on 327975 samples), 247 ICA components (256 PCA components available), channel types: eeg, no sources marked for exclusion>"
      ]
     },
     "execution_count": 12,
     "metadata": {},
     "output_type": "execute_result"
    }
   ],
   "source": [
    "ica = mne.preprocessing.ICA(n_components=rnk, method='fastica', random_state=1119)\n",
    "ica.fit(data_filt, reject_by_annotation=True)"
   ]
  },
  {
   "cell_type": "code",
   "execution_count": 13,
   "metadata": {},
   "outputs": [
    {
     "name": "stdout",
     "output_type": "stream",
     "text": [
      "Writing ICA solution to /Users/marcolai/Dropbox/NYUC&P/Class/Year5-1_2024Fall/MEEG_methods/Lab/dataset/EEG/sub-004/eeg/sub-004_sess-oddball03-ica.fif...\n"
     ]
    },
    {
     "data": {
      "text/html": [
       "<table class=\"table table-hover table-striped table-sm table-responsive small\">\n",
       "    <tr>\n",
       "        <th>Method</th>\n",
       "        <td>fastica</td>\n",
       "    </tr>\n",
       "    <tr>\n",
       "        <th>Fit</th>\n",
       "        <td>1000 iterations on raw data (327975 samples)</td>\n",
       "    </tr>\n",
       "    \n",
       "    <tr>\n",
       "        <th>ICA components</th>\n",
       "        <td>247</td>\n",
       "    </tr>\n",
       "    <tr>\n",
       "        <th>Available PCA components</th>\n",
       "        <td>256</td>\n",
       "    </tr>\n",
       "    <tr>\n",
       "        <th>Channel types</th>\n",
       "        <td>eeg</td>\n",
       "    </tr>\n",
       "    <tr>\n",
       "        <th>ICA components marked for exclusion</th>\n",
       "        <td>&mdash;</td>\n",
       "    </tr>\n",
       "    \n",
       "</table>"
      ],
      "text/plain": [
       "<ICA | raw data decomposition, method: fastica (fit in 1000 iterations on 327975 samples), 247 ICA components (256 PCA components available), channel types: eeg, no sources marked for exclusion>"
      ]
     },
     "execution_count": 13,
     "metadata": {},
     "output_type": "execute_result"
    }
   ],
   "source": [
    "# save ica file\n",
    "ica_fname = os.path.join(data_dir, '%s_%s-ica.fif') %(subj, sess)\n",
    "ica.save(ica_fname, overwrite=True)\n",
    "\n",
    "# # read ica file\n",
    "# ica_fname = os.path.join(data_dir, '%s-ica.fif') %(subj)\n",
    "# ica = mne.preprocessing.read_ica(ica_fname)"
   ]
  },
  {
   "cell_type": "code",
   "execution_count": 14,
   "metadata": {},
   "outputs": [
    {
     "name": "stdout",
     "output_type": "stream",
     "text": [
      "Creating RawArray with float64 data, n_channels=251, n_times=394241\n",
      "    Range : 1945600 ... 2339840 =   3800.000 ...  4570.000 secs\n",
      "Ready.\n",
      "Using pyopengl with version 3.1.6\n"
     ]
    },
    {
     "data": {
      "text/plain": [
       "<MNEFigure size 781x967 with 40 Axes>"
      ]
     },
     "execution_count": 14,
     "metadata": {},
     "output_type": "execute_result"
    }
   ],
   "source": [
    "# plot ICA source waveform\n",
    "ica.plot_sources(data_filt)\n",
    "\n",
    "# plot the first 40 ICA components\n",
    "ica.plot_components(picks=np.arange(0,40), nrows=8, ncols=5)\n"
   ]
  },
  {
   "cell_type": "code",
   "execution_count": 15,
   "metadata": {},
   "outputs": [
    {
     "name": "stdout",
     "output_type": "stream",
     "text": [
      "[0, 1, 2]\n"
     ]
    }
   ],
   "source": [
    "# 'sub-004_sess-oddball01': ICA000, ICA001, ICA002 \n",
    "# 'sub-004_sess-oddball02': ICA000, ICA002, ICA003\n",
    "# 'sub-004_sess-oddball03': ICA000, ICA001, ICA002\n",
    "\n",
    "# print marked ICA components\n",
    "print(ica.exclude)"
   ]
  },
  {
   "cell_type": "code",
   "execution_count": 16,
   "metadata": {},
   "outputs": [
    {
     "name": "stdout",
     "output_type": "stream",
     "text": [
      "Applying ICA to Raw instance\n",
      "    Transforming to ICA space (247 components)\n",
      "    Zeroing out 3 ICA components\n",
      "    Projecting back using 256 PCA components\n"
     ]
    }
   ],
   "source": [
    "# apply ICA to the re-reference data (without filtering)\n",
    "data_ica = ica.apply(data_reref, exclude=ica.exclude)"
   ]
  },
  {
   "cell_type": "code",
   "execution_count": 17,
   "metadata": {},
   "outputs": [
    {
     "name": "stdout",
     "output_type": "stream",
     "text": [
      "Writing /Users/marcolai/Dropbox/NYUC&P/Class/Year5-1_2024Fall/MEEG_methods/Lab/dataset/EEG/sub-004/eeg/sub-004_sess-oddball03_ICA-raw.fif\n",
      "Closing /Users/marcolai/Dropbox/NYUC&P/Class/Year5-1_2024Fall/MEEG_methods/Lab/dataset/EEG/sub-004/eeg/sub-004_sess-oddball03_ICA-raw.fif\n",
      "[done]\n"
     ]
    }
   ],
   "source": [
    "# save raw file after removing ica components\n",
    "ica_fname = os.path.join(data_dir, '%s_%s_ICA-raw.fif') %(subj, sess)\n",
    "data_ica.save(ica_fname, overwrite=True)"
   ]
  },
  {
   "cell_type": "code",
   "execution_count": null,
   "metadata": {},
   "outputs": [],
   "source": []
  }
 ],
 "metadata": {
  "kernelspec": {
   "display_name": "Python 3 (ipykernel)",
   "language": "python",
   "name": "python3"
  },
  "language_info": {
   "codemirror_mode": {
    "name": "ipython",
    "version": 3
   },
   "file_extension": ".py",
   "mimetype": "text/x-python",
   "name": "python",
   "nbconvert_exporter": "python",
   "pygments_lexer": "ipython3",
   "version": "3.8.16"
  }
 },
 "nbformat": 4,
 "nbformat_minor": 2
}
